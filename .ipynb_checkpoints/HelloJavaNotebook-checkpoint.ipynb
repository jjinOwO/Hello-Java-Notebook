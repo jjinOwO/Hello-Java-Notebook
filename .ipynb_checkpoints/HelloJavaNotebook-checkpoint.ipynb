{
 "cells": [
  {
   "cell_type": "markdown",
   "id": "d1cf4a72-9c3b-4242-a728-fcbdae6ce1ae",
   "metadata": {},
   "source": [
    "# Hello Java Notebook\n",
    "\n",
    "    ● 이름: 김호진\n",
    "    ● 학번: 20210538\n",
    "    ● Github Profile: https://github.com/jjinOwO"
   ]
  },
  {
   "cell_type": "code",
   "execution_count": 1,
   "id": "e3289b6e-d0ac-4d78-a6fe-d7f911c8ac7f",
   "metadata": {},
   "outputs": [
    {
     "name": "stdout",
     "output_type": "stream",
     "text": [
      "jjinOwO\n"
     ]
    }
   ],
   "source": [
    "%%bash\n",
    "echo $GITHUB_USER"
   ]
  },
  {
   "cell_type": "code",
   "execution_count": 2,
   "id": "69129f5b-ef48-4ef7-bb57-baa245351531",
   "metadata": {},
   "outputs": [
    {
     "name": "stdout",
     "output_type": "stream",
     "text": [
      "openjdk 22.0.2 2024-07-16\n",
      "OpenJDK Runtime Environment Temurin-22.0.2+9 (build 22.0.2+9)\n",
      "OpenJDK 64-Bit Server VM Temurin-22.0.2+9 (build 22.0.2+9, mixed mode, sharing)\n"
     ]
    }
   ],
   "source": [
    "%%bash\n",
    "java --version"
   ]
  },
  {
   "cell_type": "code",
   "execution_count": 3,
   "id": "7595b6f2-f8bc-4c88-b468-d5cd1f226da2",
   "metadata": {},
   "outputs": [
    {
     "data": {
      "text/plain": [
       "22.0.2+9"
      ]
     },
     "execution_count": 3,
     "metadata": {},
     "output_type": "execute_result"
    }
   ],
   "source": [
    "Runtime.version()"
   ]
  }
 ],
 "metadata": {
  "kernelspec": {
   "display_name": "Java (rjk 2.1.0)",
   "language": "java",
   "name": "rapaio-jupyter-kernel"
  },
  "language_info": {
   "codemirror_mode": "java",
   "file_extension": ".jshell",
   "mimetype": "text/x-java-source",
   "name": "java",
   "nbconvert_exporter": "script",
   "pygments_lexer": "java",
   "version": "22.0.2+9"
  }
 },
 "nbformat": 4,
 "nbformat_minor": 5
}
