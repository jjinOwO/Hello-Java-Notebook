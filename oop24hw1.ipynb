{
 "cells": [
  {
   "cell_type": "markdown",
   "id": "49b2bb3f-8a94-4aba-bf67-6b97d86c0047",
   "metadata": {},
   "source": [
    "# OOP (2024 Fall) HW1: 불변 순서쌍을 활용해 가변 순서쌍 만들기 \n",
    "- 이름: 김호진\n",
    "- 학번: 20210538\n",
    "\n",
    "여기 홍길동, 99999999 대신 본인의 이름, 학번 작성"
   ]
  },
  {
   "cell_type": "markdown",
   "id": "9c3c24aa-19ac-4c88-a228-0d1686034a24",
   "metadata": {},
   "source": [
    "-----\n",
    "## Part A: 불변 순서쌍 Pair\n",
    "1. 클래스(또는 정적) 팩토리 메소드 `of`를 를 수정하여 완성하라.\n",
    "    - https://velog.io/@cjh8746/%EC%A0%95%EC%A0%81-%ED%8C%A9%ED%86%A0%EB%A6%AC-%EB%A9%94%EC%84%9C%EB%93%9CStatic-Factory-Method\n",
    "1. 주석 부분을 풀어 제너릭 클래스인 `Pair`가 제너릭 인터페이스 `Comparable`를 구현하도록 완성하라.\n",
    "    - https://docs.oracle.com/en/java/javase/22/docs/api/java.base/java/lang/Comparable.html"
   ]
  },
  {
   "cell_type": "code",
   "execution_count": 49,
   "id": "f2b4bcb7-9d9c-494a-9762-ca0700c6f762",
   "metadata": {},
   "outputs": [],
   "source": [
    "record Pair<F extends Comparable<F>, S extends Comparable<S>>(F first, S second) implements Comparable<Pair<F, S>> {\n",
    "\n",
    "    static <F extends Comparable<F>, S extends Comparable<S>> Pair<F, S> of(F first, S second) {\n",
    "        return new Pair<>(first, second);\n",
    "    }\n",
    "\n",
    "    @Override\n",
    "    public int compareTo(Pair<F, S> other) {\n",
    "        int firstComparison = this.first.compareTo(other.first);\n",
    "        if (firstComparison != 0) {\n",
    "            return firstComparison;\n",
    "        }\n",
    "        return this.second.compareTo(other.second);\n",
    "    }\n",
    "}"
   ]
  },
  {
   "cell_type": "code",
   "execution_count": 50,
   "id": "5fb5b2ac-4ac0-40cc-9f87-1675177e4baa",
   "metadata": {},
   "outputs": [
    {
     "name": "stdout",
     "output_type": "stream",
     "text": [
      "pair2.compareTo(pair1): 1\n",
      "pair1.compareTo(pair2): -1\n",
      "pair1.compareTo(pair1): 0\n",
      "pair1.compareTo(pair3): 1\n",
      "pair2.compareTo(pair4): -1\n"
     ]
    }
   ],
   "source": [
    "Pair<String, Integer> pair1 = Pair.of(\"apple\", 10);\n",
    "Pair<String, Integer> pair2 = Pair.of(\"banana\", 5);\n",
    "Pair<String, Integer> pair3 = Pair.of(\"apple\", 0);\n",
    "Pair<String, Integer> pair4 = Pair.of(\"apple\", 20);\n",
    "\n",
    "\n",
    "System.out.println(\"pair2.compareTo(pair1): \" + pair2.compareTo(pair1)); //왼쪽이 더 큰 경우\n",
    " \n",
    "System.out.println(\"pair1.compareTo(pair2): \" + pair1.compareTo(pair2)); // 왼쪽이 더 작은 경우\n",
    "\n",
    "System.out.println(\"pair1.compareTo(pair1): \" + pair1.compareTo(pair1));  // first와 second가 모두 같은 경우\n",
    "\n",
    "System.out.println(\"pair1.compareTo(pair3): \" + pair1.compareTo(pair3)); // first는 같지만 second가 왼쪽이 더 큰 경우\n",
    "\n",
    "System.out.println(\"pair2.compareTo(pair4): \" + pair1.compareTo(pair4)); // first는 같지만 second가 왼쪽이 더 작은 경우"
   ]
  },
  {
   "cell_type": "markdown",
   "id": "e2774a64-250e-4e89-a536-5a8ed42bb4ce",
   "metadata": {},
   "source": [
    "------\n",
    "## Part B: 가변 순서쌍 ModifiablePair\n",
    "\n",
    "불변 순서쌍만을 priviate 필드로 갖고 있는 가변 순서쌍 제너릭 클래스를 작성하라\n",
    "\n",
    "가변 순서쌍은 불변 순서쌍과 마찬가지 이름의 getter 메소드가 있고 추가로 setter 메소드도 있다.\n",
    "\n",
    "또, 가변 순서쌍도 불변 순서쌍과 마찬가지로 Comparable 제너릭 인터페이스를 구현하라.\n"
   ]
  },
  {
   "cell_type": "code",
   "execution_count": 51,
   "id": "38eb649f-d95e-40d8-a33b-658df4ee4a7f",
   "metadata": {},
   "outputs": [],
   "source": [
    "class ModifiablePair<F extends Comparable<F>, S extends Comparable<S>> implements Comparable<ModifiablePair<F, S>> {\n",
    "    private Pair<F,S> pair;\n",
    "\n",
    "    ModifiablePair(F first, S second) {\n",
    "        this.pair = new Pair<>(first, second);\n",
    "    }\n",
    "    \n",
    "    public F first() {\n",
    "        return pair.first();\n",
    "    }\n",
    "    public S second() {\n",
    "        return pair.second();\n",
    "    }\n",
    "    \n",
    "    public void setFirst(F first) {\n",
    "        this.pair = new Pair<>(first, this.pair.second());\n",
    "    }\n",
    "    public void setSecond(S second) {\n",
    "        this.pair = new Pair<>(this.pair.first(), second);\n",
    "    }\n",
    "\n",
    "    @Override\n",
    "    public int compareTo(ModifiablePair<F, S> other) {\n",
    "        return this.pair.compareTo(other.pair);\n",
    "    }\n",
    "\n",
    "    @Override\n",
    "    public String toString() { \n",
    "        return pair.toString(); \n",
    "    }\n",
    "}"
   ]
  },
  {
   "cell_type": "code",
   "execution_count": 52,
   "id": "57af3b33-b9db-43bd-a8e7-5b35d97aaf5e",
   "metadata": {},
   "outputs": [],
   "source": [
    "// ModifiablePair<F,S>의 getter와 setter들이 잘 동작하는지 확인할 수 있는 적절한 테스트 코드 작성하여 실행하라.\n",
    "// 그러니까 `first()`, `second()`, `setFrist(F)`, `setSecond(S)` 메소드를 모두 활용하는 예시 코드를 작성해 실행하라는 말이다."
   ]
  },
  {
   "cell_type": "code",
   "execution_count": 53,
   "id": "e0b9e66e-d3fa-4485-b6f6-4075eca8fcf3",
   "metadata": {},
   "outputs": [
    {
     "name": "stdout",
     "output_type": "stream",
     "text": [
      "First: apple\n",
      "Second: 10\n",
      "After setFirst: banana\n",
      "After setSecond: 20\n",
      "pair2.compareTo(pair1): 1\n",
      "pair1.compareTo(pair2): -1\n",
      "pair1.compareTo(pair3): 0\n",
      "pair2.compareTo(pair4) after first modification: 1\n",
      "pair2.compareTo(pair4) after second modification: -1\n",
      "pair2.compareTo(pair4) after third modification: 0\n"
     ]
    }
   ],
   "source": [
    "ModifiablePair<String, Integer> modifiablePair = new ModifiablePair<>(\"apple\", 10);\n",
    "\n",
    "// getter 테스트\n",
    "System.out.println(\"First: \" + modifiablePair.first());   // apple\n",
    "System.out.println(\"Second: \" + modifiablePair.second()); // 10\n",
    "\n",
    "// setter 테스트\n",
    "modifiablePair.setFirst(\"banana\");\n",
    "System.out.println(\"After setFirst: \" + modifiablePair.first()) ; // banana\n",
    "modifiablePair.setSecond(20);\n",
    "System.out.println(\"After setSecond: \" + modifiablePair.second()); // 20\n",
    "\n",
    "// 비교 테스트\n",
    "ModifiablePair<String, Integer> pair1 = new ModifiablePair<>(\"apple\", 10);\n",
    "ModifiablePair<String, Integer> pair2 = new ModifiablePair<>(\"banana\", 5);\n",
    "ModifiablePair<String, Integer> pair3 = new ModifiablePair<>(\"apple\", 10);\n",
    "ModifiablePair<String, Integer> pair4 = new ModifiablePair<>(\"carrot\", 0);\n",
    "\n",
    "\n",
    "System.out.println(\"pair2.compareTo(pair1): \" + pair2.compareTo(pair1)); // 왼쪽이 더 큰 경우\n",
    "\n",
    "System.out.println(\"pair1.compareTo(pair2): \" + pair1.compareTo(pair2)); // 왼쪽이 더 작은 경우\n",
    "\n",
    "System.out.println(\"pair1.compareTo(pair3): \" + pair1.compareTo(pair3)); // first와 second가 모두 같은 경우\n",
    "\n",
    "\n",
    "//가변 순써상에 대한 compareTo 동작 비교 테스트\n",
    "\n",
    "pair4.setFirst(\"apple\");\n",
    "System.out.println(\"pair2.compareTo(pair4) after first modification: \" + pair2.compareTo(pair4)); //값 변경 후 왼쪽이 더 큰 경우\n",
    "\n",
    "pair4.setFirst(\"banana\");\n",
    "pair4.setSecond(10);\n",
    "System.out.println(\"pair2.compareTo(pair4) after second modification: \" + pair2.compareTo(pair4)); //값 변경 후 왼쪽이 더 작은 경우\n",
    "\n",
    "pair2.setSecond(10);\n",
    "pair4.setSecond(10);\n",
    "System.out.println(\"pair2.compareTo(pair4) after third modification: \" + pair2.compareTo(pair4)); //값 변경 후 first와 second가 모두 같은 경우"
   ]
  },
  {
   "cell_type": "code",
   "execution_count": null,
   "id": "bca154de-fd3d-4117-b249-983cae82789d",
   "metadata": {},
   "outputs": [],
   "source": []
  }
 ],
 "metadata": {
  "kernelspec": {
   "display_name": "Java (rjk 2.1.0)",
   "language": "java",
   "name": "rapaio-jupyter-kernel"
  },
  "language_info": {
   "codemirror_mode": "java",
   "file_extension": ".jshell",
   "mimetype": "text/x-java-source",
   "name": "java",
   "nbconvert_exporter": "script",
   "pygments_lexer": "java",
   "version": "22.0.2+9"
  }
 },
 "nbformat": 4,
 "nbformat_minor": 5
}
