{
 "cells": [
  {
   "cell_type": "markdown",
   "id": "49b2bb3f-8a94-4aba-bf67-6b97d86c0047",
   "metadata": {},
   "source": [
    "# OOP (2024 Fall) 실습01: `Map`과 `List` 활용 연습\n",
    "- 이름: 김호진\n",
    "- 학번: 20210538\n",
    "\n",
    "여기 홍길동, 99999999 대신 본인의 이름, 학번 작성"
   ]
  },
  {
   "cell_type": "code",
   "execution_count": 26,
   "id": "9a7ec71e-03fe-4fda-ad35-f614711a03b6",
   "metadata": {},
   "outputs": [
    {
     "ename": "CompilerException",
     "evalue": "",
     "output_type": "error",
     "traceback": [
      "\u001b[0m\u001b[1m\u001b[31mCompile error:\u001b[0m",
      "\u001b[0m\u001b[1m|    display(ImageIO.read(new \u001b[0m\u001b[1m\u001b[48;2;235;145;148mURL\u001b[0m\u001b[1m(\"https://mermaid.ink/img/\"+Base64.getEncoder().encodeToString(mmgraph.getBytes()))));\u001b[0m",
      "\u001b[0m\u001b[1m\u001b[34mcannot find symbol\u001b[0m",
      "\u001b[0m\u001b[1m\u001b[34m  symbol:   class URL\u001b[0m",
      ""
     ]
    }
   ],
   "source": [
    "import javax.imageio.*;\n",
    "import java.net.MalformedURLException;\n",
    "\n",
    "var mmgraph = \"\"\"\n",
    "graph LR;\n",
    "    서울 --> 원주 --> 평창 --> 강릉\n",
    "    원주 --> 안동\n",
    "    서울 --> 천안 --> 대전 & 공주\n",
    "    대전 --> 대구 --> 부산\n",
    "    공주 --> 익산 --> 광주 --> 목포\n",
    "    대전 --> 익산 --> 전주 --> 여수\n",
    "\"\"\";\n",
    "\n",
    "display(ImageIO.read(new URL(\"https://mermaid.ink/img/\"+Base64.getEncoder().encodeToString(mmgraph.getBytes()))));"
   ]
  },
  {
   "cell_type": "markdown",
   "id": "7d7f227e-8a11-416f-9f54-9d3e0680ac67",
   "metadata": {},
   "source": [
    "위의 하행선 철도 노선도를 자바의 Map과 List를 활용한 인접리스트(adjacencty list) 데이터 구조로 옮겨 `routeMap` 변수에 저장해 보라.\n",
    "\n",
    "자바에서 인접리스트를 표현하기 위한 타입은 `Map< String, List<String> >`이라는 것을 먼저 이해하고 작성해 보라."
   ]
  },
  {
   "cell_type": "code",
   "execution_count": 27,
   "id": "3a4fd42b-0545-485a-abe6-727749a9cbe4",
   "metadata": {},
   "outputs": [
    {
     "name": "stdout",
     "output_type": "stream",
     "text": [
      "강릉 -> []\n",
      "전주 -> [여수]\n",
      "익산 -> [광주, 전주]\n",
      "서울 -> [원주, 천안]\n",
      "부산 -> []\n",
      "안동 -> []\n",
      "평창 -> [강릉]\n",
      "대전 -> [대구, 익산]\n",
      "공주 -> [익산]\n",
      "원주 -> [평창, 안동]\n",
      "목포 -> []\n",
      "여수 -> []\n",
      "천안 -> [대전, 공주]\n",
      "대구 -> [부산]\n",
      "광주 -> [목포]\n"
     ]
    }
   ],
   "source": [
    "Map<String, List<String>> routeMap = new HashMap<>();\n",
    "        \n",
    "        routeMap.put(\"서울\", Arrays.asList(\"원주\", \"천안\"));\n",
    "        routeMap.put(\"원주\", Arrays.asList(\"평창\", \"안동\"));\n",
    "        routeMap.put(\"평창\", Arrays.asList(\"강릉\"));\n",
    "        routeMap.put(\"강릉\", Arrays.asList());\n",
    "        routeMap.put(\"안동\", Arrays.asList());\n",
    "        routeMap.put(\"천안\", Arrays.asList(\"대전\", \"공주\"));\n",
    "        routeMap.put(\"대전\", Arrays.asList(\"대구\", \"익산\"));\n",
    "        routeMap.put(\"대구\", Arrays.asList(\"부산\"));\n",
    "        routeMap.put(\"부산\", Arrays.asList());\n",
    "        routeMap.put(\"공주\", Arrays.asList(\"익산\"));\n",
    "        routeMap.put(\"익산\", Arrays.asList(\"광주\", \"전주\"));\n",
    "        routeMap.put(\"광주\", Arrays.asList(\"목포\"));\n",
    "        routeMap.put(\"전주\", Arrays.asList(\"여수\"));\n",
    "        routeMap.put(\"목포\", Arrays.asList());\n",
    "        routeMap.put(\"여수\", Arrays.asList());\n",
    "\n",
    "\n",
    "        // 출력해보기\n",
    "        for (Map.Entry<String, List<String>> entry : routeMap.entrySet()) {\n",
    "            System.out.println(entry.getKey() + \" -> \" + entry.getValue());\n",
    "        }"
   ]
  },
  {
   "cell_type": "markdown",
   "id": "48b29721-3d2f-4aa3-a0d8-b35d1bf29aa1",
   "metadata": {},
   "source": [
    "출발지(`orig`)로부터 도착지(`dest`)까지 하행선 노선이 연결되어 있는지 판별하는 `hasPath` 함수를 재귀적으로 작성해 보라.\n",
    "위의 `routeMap`을 그냥 전역변수처럼 활용하라."
   ]
  },
  {
   "cell_type": "code",
   "execution_count": 9,
   "id": "aecdd876-2685-4b7a-91d0-46d6002b5758",
   "metadata": {},
   "outputs": [],
   "source": [
    " // 출발지에서 도착지까지 연결되어 있는지 판별하는 재귀 함수\n",
    "    boolean hasPath(String orig, String dest) {\n",
    "        // 귀납기초: 출발지와 도착지가 같으면 true\n",
    "        if (orig.equals(dest)) {\n",
    "            return true;\n",
    "        }\n",
    "\n",
    "        // 출발지가 노선에 없는 경우 false\n",
    "        if (!routeMap.containsKey(orig)) {\n",
    "            return false;\n",
    "        }\n",
    "\n",
    "        // 귀납단계: 출발지에서 인접한 지점을 순회하며 재귀적으로 확인\n",
    "        for (String next : routeMap.get(orig)) {\n",
    "            if (hasPath(next, dest)) {\n",
    "                return true;  // 인접 지점에서 도착지로 갈 수 있으면 true 반환\n",
    "            }\n",
    "        }\n",
    "\n",
    "        return false;  // 모든 경로를 탐색했지만 연결이 없으면 false\n",
    "    }"
   ]
  },
  {
   "cell_type": "code",
   "execution_count": 10,
   "id": "a764d63e-a729-41c4-a938-78ecdcf9f310",
   "metadata": {},
   "outputs": [],
   "source": [
    "// 몇몇 도시들로 hasPath 함수를 테스트해 보라. 몇 개는 true가 나오고 몇 개는 false가 나오는 경우로."
   ]
  },
  {
   "cell_type": "code",
   "execution_count": 11,
   "id": "a6c99a7f-27c7-4211-9289-d7a2c8ff7090",
   "metadata": {},
   "outputs": [
    {
     "name": "stdout",
     "output_type": "stream",
     "text": [
      "true\n"
     ]
    }
   ],
   "source": [
    "System.out.println(hasPath(\"서울\", \"강릉\"));  // true"
   ]
  },
  {
   "cell_type": "code",
   "execution_count": 12,
   "id": "a9b301b7-434a-4585-995a-d50a957b47d2",
   "metadata": {},
   "outputs": [
    {
     "name": "stdout",
     "output_type": "stream",
     "text": [
      "true\n"
     ]
    }
   ],
   "source": [
    "System.out.println(hasPath(\"서울\", \"부산\"));  // true"
   ]
  },
  {
   "cell_type": "code",
   "execution_count": 13,
   "id": "a9d00ccb-465c-434c-83a4-8dd2aee7ee70",
   "metadata": {},
   "outputs": [
    {
     "name": "stdout",
     "output_type": "stream",
     "text": [
      "true\n"
     ]
    }
   ],
   "source": [
    "System.out.println(hasPath(\"서울\", \"여수\"));  // true"
   ]
  },
  {
   "cell_type": "code",
   "execution_count": 14,
   "id": "fafb8416-8d6b-4360-8b8c-b410d1a6d32f",
   "metadata": {},
   "outputs": [
    {
     "name": "stdout",
     "output_type": "stream",
     "text": [
      "false\n"
     ]
    }
   ],
   "source": [
    "System.out.println(hasPath(\"광주\", \"부산\"));  // false"
   ]
  },
  {
   "cell_type": "code",
   "execution_count": 15,
   "id": "41057aa0-db24-4b37-9424-cd6becc2fb4b",
   "metadata": {},
   "outputs": [
    {
     "name": "stdout",
     "output_type": "stream",
     "text": [
      "false\n"
     ]
    }
   ],
   "source": [
    "System.out.println(hasPath(\"대구\", \"여수\"));  // false"
   ]
  },
  {
   "cell_type": "code",
   "execution_count": null,
   "id": "17d038e5-a676-4315-bfbe-ecd20ab4bdaa",
   "metadata": {},
   "outputs": [],
   "source": []
  }
 ],
 "metadata": {
  "kernelspec": {
   "display_name": "Java (rjk 2.1.0)",
   "language": "java",
   "name": "rapaio-jupyter-kernel"
  },
  "language_info": {
   "codemirror_mode": "java",
   "file_extension": ".jshell",
   "mimetype": "text/x-java-source",
   "name": "java",
   "nbconvert_exporter": "script",
   "pygments_lexer": "java",
   "version": "22.0.2+9"
  }
 },
 "nbformat": 4,
 "nbformat_minor": 5
}
